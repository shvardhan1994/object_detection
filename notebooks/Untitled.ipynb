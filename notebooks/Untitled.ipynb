{
 "cells": [
  {
   "cell_type": "code",
   "execution_count": 2,
   "id": "e2ec7a1c-30b2-4eb7-aeac-d0c9bc6baa00",
   "metadata": {
    "tags": []
   },
   "outputs": [],
   "source": [
    "from matplotlib import pyplot as plt\n",
    "from glob import glob\n",
    "import numpy as np\n",
    "import pandas as pd"
   ]
  },
  {
   "cell_type": "code",
   "execution_count": 4,
   "id": "bd9593d3-b925-4769-be12-339cefca66a6",
   "metadata": {},
   "outputs": [],
   "source": [
    "import json"
   ]
  },
  {
   "cell_type": "code",
   "execution_count": 43,
   "id": "b418408c-564d-46d5-a651-7c700e38dbfb",
   "metadata": {
    "tags": []
   },
   "outputs": [],
   "source": [
    "def load_preds(json_path):\n",
    "    f = open(json_path)\n",
    "    preds = json.load(f)\n",
    "    bbox_collected = []\n",
    "    score_collected = []\n",
    "    image_name = preds.keys()\n",
    "    for k1 in preds.keys():\n",
    "        temp_box = []\n",
    "        temp_score = []\n",
    "        for k2 in preds[k1]:\n",
    "            box = preds[k1][k2]['bbox']\n",
    "            x1 = float(box[0])\n",
    "            y1 = float(box[1])\n",
    "            x2 = float(box[2])\n",
    "            y2 = float(box[3])\n",
    "            temp_box.append([x1, y1, x2, y2])\n",
    "            temp_score.append(preds[k1][k2]['score'])\n",
    "        bbox_collected.append(temp_box)  \n",
    "        score_collected.append(temp_score) \n",
    "    return image_name, bbox_collected,score_collected"
   ]
  },
  {
   "cell_type": "code",
   "execution_count": 44,
   "id": "2c892867-71b4-47b8-b321-cdf751a7d721",
   "metadata": {
    "tags": []
   },
   "outputs": [],
   "source": [
    "image_name,pred_bb,_ = load_preds('/p/project/hai_hmgu/workspace/harsha/object_detection/data/predictions/2024-01-30_14-57-02/model_predictions.json')"
   ]
  },
  {
   "cell_type": "code",
   "execution_count": 42,
   "id": "3fc25127-40fb-4080-9b4a-b450408a0b86",
   "metadata": {
    "tags": []
   },
   "outputs": [],
   "source": [
    "test_df = pd.read_csv('/p/project/hai_hmgu/workspace/harsha/object_detection/data/orgaquant/test_labels.csv',sep = ',')"
   ]
  },
  {
   "cell_type": "code",
   "execution_count": 49,
   "id": "ef2a901f-dc16-4207-a681-993ba71a6800",
   "metadata": {
    "tags": []
   },
   "outputs": [],
   "source": [
    "base_path = '/p/project/hai_hmgu/workspace/harsha/object_detection/data/orgaquant/test'\n",
    "gt_bb = []\n",
    "for img in image_name:\n",
    "    full_image_path = f'{base_path}/{img}'\n",
    "    tempdf = test_df[test_df.path == full_image_path]\n",
    "    boxes = [tempdf.iloc[i,:4].tolist() for i in range(len(tempdf))]\n",
    "    gt_bb.append(boxes)"
   ]
  },
  {
   "cell_type": "code",
   "execution_count": 50,
   "id": "f8c7669e-1eba-4b9c-b017-4087b17b4bc9",
   "metadata": {
    "tags": []
   },
   "outputs": [
    {
     "data": {
      "text/plain": [
       "[[150, 396, 250, 450], [311, 391, 365, 449], [290, 377, 316, 407]]"
      ]
     },
     "execution_count": 50,
     "metadata": {},
     "output_type": "execute_result"
    }
   ],
   "source": [
    "gt_bb[0]"
   ]
  },
  {
   "cell_type": "code",
   "execution_count": 51,
   "id": "4cddbf14-c1c5-48fc-9afc-5bd6787467bf",
   "metadata": {
    "tags": []
   },
   "outputs": [],
   "source": [
    "def get_iou(a, b, epsilon=1e-5, intersection_check=False):\n",
    "    x1 = max(a[0], b[0])\n",
    "    y1 = max(a[1], b[1])\n",
    "    x2 = min(a[2], b[2])\n",
    "    y2 = min(a[3], b[3])\n",
    "\n",
    "    width =  (x2 - x1)\n",
    "    height = (y2 - y1)\n",
    "\n",
    "    if (width < 0) or (height < 0):\n",
    "        if intersection_check:\n",
    "            return 0.0, False\n",
    "        else:\n",
    "            return 0.0\n",
    "    area_overlap = width * height\n",
    "\n",
    "    area_a = (a[2] - a[0]) * (a[3] - a[1])\n",
    "    area_b = (b[2] - b[0]) * (b[3] - b[1])\n",
    "    area_combined = area_a + area_b - area_overlap\n",
    "\n",
    "    iou = area_overlap / (area_combined + epsilon)\n",
    "    if intersection_check:\n",
    "        return iou, bool(area_overlap)\n",
    "    else:\n",
    "        return iou\n",
    "\n",
    "\n",
    "def calc_conditions(gt_boxes, pred_boxes, iou_thresh=0.5):\n",
    "    \"\"\"Function to compute evaluation metrics (TP,FP,FN) based on IOU score.\n",
    "\n",
    "    Args:\n",
    "        gt_boxes (List): List of GT bounding boxes.\n",
    "        pred_boxes (List): List of model predicted bounding boxes.\n",
    "        iou_thresh (float, optional): Threshold to decide if detection is TP or FP. Defaults to 0.5.\n",
    "\n",
    "    Returns:\n",
    "        tp,fp,fn,tpflag (int,int,int,array): Count of number of TPs, FPs, FNs and the flag position of TPs.\n",
    "    \"\"\"\n",
    "    gt_class_ids_ = np.zeros(len(gt_boxes))\n",
    "    pred_class_ids_ = np.zeros(len(pred_boxes))\n",
    "\n",
    "    tp, fp, fn = 0, 0, 0\n",
    "    TPFlag = np.zeros((len(gt_class_ids_),len(pred_class_ids_)))\n",
    "    for i in range(len(gt_class_ids_)):\n",
    "        iou = []\n",
    "        \n",
    "        for j in range(len(pred_class_ids_)):\n",
    "            now_iou = get_iou(gt_boxes[i], pred_boxes[j])\n",
    "            if now_iou >= iou_thresh:\n",
    "                iou.append(now_iou)\n",
    "                gt_class_ids_[i] = 1\n",
    "                pred_class_ids_[j] = 1\n",
    "            else:\n",
    "                iou.append(0)\n",
    "\n",
    "        \n",
    "        if any(iou):\n",
    "            tp += 1\n",
    "            ind = iou.index(max(iou))\n",
    "            TPFlag[i,ind] = 1\n",
    "            fp += len(iou) - 1 - iou.count(0)\n",
    "\n",
    "        \n",
    "    fn += np.count_nonzero(np.array(gt_class_ids_) == 0)\n",
    "    fp += np.count_nonzero(np.array(pred_class_ids_) == 0)\n",
    "    \n",
    "    return tp, fp, fn, TPFlag\n",
    "    \n",
    "\n",
    "def evalMetrics(GTBB,BBColl,iou_thresh):\n",
    "    \"\"\"Function to compute and output the evaluated metrics.\n",
    "\n",
    "    Args:\n",
    "        GTBB (List): List of GT bounding boxes.\n",
    "        BBColl (_type_): List of predicted bounding boxes.\n",
    "        iou_thresh (_type_): IOU threshold.\n",
    "\n",
    "    Returns:\n",
    "        TP,FP,FN,TPFLAG (List,List,List,List): TPs,FPs,FNs of all the images stored in a list.\n",
    "    \"\"\"\n",
    "    TP = []\n",
    "    FP = []\n",
    "    FN = []\n",
    "    TPFLAG = []\n",
    "    for i in range(len(GTBB)):\n",
    "        if len(GTBB[i]) == 0:\n",
    "            TP.append(0)\n",
    "            FP.append(len(BBColl[i]))\n",
    "            FN.append(0)\n",
    "            TPFLAG.append([])\n",
    "        else:\n",
    "            tp,fp,fn,TPFlag = calc_conditions(GTBB[i],BBColl[i],iou_thresh)\n",
    "            TP.append(tp)\n",
    "            FP.append(fp)\n",
    "            FN.append(fn)\n",
    "            TPFLAG.append(TPFlag)\n",
    "            \n",
    "    return TP,FP,FN,TPFLAG"
   ]
  },
  {
   "cell_type": "code",
   "execution_count": 53,
   "id": "17a457d3-2b6a-4fb6-a323-15ba2a96740b",
   "metadata": {
    "tags": []
   },
   "outputs": [
    {
     "name": "stdout",
     "output_type": "stream",
     "text": [
      " Total TPs = 1087, Total FPs = 1204, Total FNs = 48, Overall Precision = 0.4744652989960716, Overall Recall = 0.9577092511013215 \n"
     ]
    }
   ],
   "source": [
    "TP,FP,FN,TPFLAG = evalMetrics(gt_bb,pred_bb,0.5)\n",
    "TTP = np.sum(TP)\n",
    "TFP = np.sum(FP)\n",
    "TFN = np.sum(FN)\n",
    "PREC = TTP / (TTP + TFP)\n",
    "RECAL = TTP / (TTP + TFN)\n",
    "print(f' Total TPs = {TTP}, Total FPs = {TFP}, Total FNs = {TFN}, Overall Precision = {PREC}, Overall Recall = {RECAL} ')\n"
   ]
  },
  {
   "cell_type": "code",
   "execution_count": null,
   "id": "3b021006-abe7-44a5-806d-3675dbe8e478",
   "metadata": {},
   "outputs": [],
   "source": []
  }
 ],
 "metadata": {
  "kernelspec": {
   "display_name": "Python 3 (ipykernel)",
   "language": "python",
   "name": "python3"
  },
  "language_info": {
   "codemirror_mode": {
    "name": "ipython",
    "version": 3
   },
   "file_extension": ".py",
   "mimetype": "text/x-python",
   "name": "python",
   "nbconvert_exporter": "python",
   "pygments_lexer": "ipython3",
   "version": "3.10.4"
  }
 },
 "nbformat": 4,
 "nbformat_minor": 5
}
